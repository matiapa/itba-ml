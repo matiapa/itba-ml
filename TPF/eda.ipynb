{
 "cells": [
  {
   "cell_type": "code",
   "execution_count": 85,
   "metadata": {},
   "outputs": [],
   "source": [
    "import pandas as pd\n",
    "import matplotlib.pyplot as plt\n",
    "import numpy as np\n",
    "import seaborn as sns\n",
    "\n",
    "df = pd.read_csv('data/raw/train.csv')"
   ]
  },
  {
   "cell_type": "code",
   "execution_count": 86,
   "metadata": {},
   "outputs": [],
   "source": [
    "# Select appropiate columns\n",
    "\n",
    "columns = ['education', 'gender', 'recruitment_channel', 'no_of_trainings','age','previous_year_rating','length_of_service','KPIs_met >80%','awards_won?','avg_training_score', 'is_promoted']\n",
    "df = df[columns]\n",
    "\n",
    "# Encode the categorical ones\n",
    "\n",
    "df['education'] = df['education'].replace(\"Below Secondary\", 0)\n",
    "df['education'] = df['education'].replace(\"Bachelor's\", 1)\n",
    "df['education'] = df['education'].replace(\"Master's & above\", 2)\n",
    "\n",
    "df['gender'] = df['gender'].replace(\"m\", 0)\n",
    "df['gender'] = df['gender'].replace(\"f\", 1)\n",
    "\n",
    "df['recruitment_channel'] = df['recruitment_channel'].replace(\"sourcing\", 0)\n",
    "df['recruitment_channel'] = df['recruitment_channel'].replace(\"referred\", 1)\n",
    "df['recruitment_channel'] = df['recruitment_channel'].replace(\"other\", np.nan)\n",
    "\n",
    "# Standardize the numerical ones\n",
    "\n",
    "for col in ['no_of_trainings','age','previous_year_rating','length_of_service','KPIs_met >80%','awards_won?','avg_training_score']:\n",
    "    df[col] = (df[col] - df[col].mean())/ df[col].std()\n",
    "\n",
    "# Fill in missing values using the mean\n",
    "\n",
    "for col in columns:\n",
    "    df[col] = df[col].fillna(df[col].mean())"
   ]
  },
  {
   "cell_type": "code",
   "execution_count": 77,
   "metadata": {},
   "outputs": [
    {
     "data": {
      "text/plain": [
       "array([1.72047052, 1.36468391])"
      ]
     },
     "execution_count": 77,
     "metadata": {},
     "output_type": "execute_result"
    }
   ],
   "source": [
    "# Make a PCA analysis\n",
    "\n",
    "from sklearn.decomposition import PCA\n",
    "pca = PCA(n_components=2)\n",
    "pca.fit(df)\n",
    "\n",
    "df_pca = pca.transform(df)\n",
    "\n",
    "sns.scatterplot(x=df_pca[:,0], y=df_pca[:,1], hue=df['is_promoted'])\n",
    "plt.xlabel('PC1')\n",
    "plt.ylabel('PC2')\n",
    "\n",
    "# Plot a barplot with the weights of the first component and its labels\n",
    "\n",
    "plt.barh(width=pca.components_[0], y=columns)"
   ]
  },
  {
   "cell_type": "code",
   "execution_count": 87,
   "metadata": {},
   "outputs": [],
   "source": [
    "df.to_csv('data/processed/train.csv', index=False)"
   ]
  }
 ],
 "metadata": {
  "kernelspec": {
   "display_name": "Python 3.10.0 64-bit",
   "language": "python",
   "name": "python3"
  },
  "language_info": {
   "codemirror_mode": {
    "name": "ipython",
    "version": 3
   },
   "file_extension": ".py",
   "mimetype": "text/x-python",
   "name": "python",
   "nbconvert_exporter": "python",
   "pygments_lexer": "ipython3",
   "version": "3.10.0"
  },
  "orig_nbformat": 4,
  "vscode": {
   "interpreter": {
    "hash": "c0afe744ab29470f75ab61b6b2b8fab60cd877b2b4d08fc2e6ef0504fde24db4"
   }
  }
 },
 "nbformat": 4,
 "nbformat_minor": 2
}
