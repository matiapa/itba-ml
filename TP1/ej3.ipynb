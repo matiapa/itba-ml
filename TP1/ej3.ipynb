{
 "cells": [
  {
   "cell_type": "markdown",
   "metadata": {},
   "source": [
    "### Problem statement\n",
    "\n",
    "We want to calculate\n",
    "$$\n",
    "P(A=0 | R=1) = \\frac{P(A=0, R=1)}{P(R=1)} = \\frac{\\sum_{gp\\in\\{0,1\\}} \\sum_{gr\\in\\{0,1\\}} P(A=0, R=1, GP=gp, GR=gr)} {\\sum_{gp\\in\\{0,1\\}} \\sum_{gr\\in\\{0,1\\}} \\sum_{a\\in\\{0,1\\}} P(A=a, R=1, GP=gp, GR=gr)}\n",
    "$$\n",
    "Using the probability factorization theorem we get that it equals\n",
    "$$\n",
    "\\frac{\\sum_{gp\\in\\{0,1\\}} \\sum_{gr\\in\\{0,1\\}} P(A=0 | R=1, GP=gp, GR=gr) * P(GP=gp | R=1) * P(GR=gr | R=1) * P(R=1)} {\\sum_{gp\\in\\{0,1\\}} \\sum_{gr\\in\\{0,1\\}} \\sum_{a\\in\\{0,1\\}} P(A=a | R=1, GP=gp, GR=gr) * P(GP=gp | R=1) * P(GR=gr | R=1) * P(R=1)}\n",
    "$$"
   ]
  },
  {
   "cell_type": "markdown",
   "metadata": {},
   "source": [
    "### Implementation\n",
    "\n",
    "Load the data"
   ]
  },
  {
   "cell_type": "code",
   "execution_count": null,
   "metadata": {},
   "outputs": [],
   "source": [
    "import pandas\n",
    "\n",
    "df = pandas.read_csv('binary.csv')"
   ]
  }
 ],
 "metadata": {
  "kernelspec": {
   "display_name": "Python 3.10.0 64-bit",
   "language": "python",
   "name": "python3"
  },
  "language_info": {
   "codemirror_mode": {
    "name": "ipython",
    "version": 3
   },
   "file_extension": ".py",
   "mimetype": "text/x-python",
   "name": "python",
   "nbconvert_exporter": "python",
   "pygments_lexer": "ipython3",
   "version": "3.10.0"
  },
  "orig_nbformat": 4,
  "vscode": {
   "interpreter": {
    "hash": "c0afe744ab29470f75ab61b6b2b8fab60cd877b2b4d08fc2e6ef0504fde24db4"
   }
  }
 },
 "nbformat": 4,
 "nbformat_minor": 2
}
