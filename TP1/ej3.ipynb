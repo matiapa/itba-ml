{
 "cells": [
  {
   "cell_type": "markdown",
   "metadata": {},
   "source": [
    "### Problem statement\n",
    "\n",
    "We want to calculate\n",
    "$$\n",
    "P(A=0 | R=1) = \\frac{P(A=0, R=1)}{P(R=1)} = \\frac{\\sum_{gp\\in\\{0,1\\}} \\sum_{gr\\in\\{0,1\\}} P(A=0, R=1, GP=gp, GR=gr)} {\\sum_{gp\\in\\{0,1\\}} \\sum_{gr\\in\\{0,1\\}} \\sum_{a\\in\\{0,1\\}} P(A=a, R=1, GP=gp, GR=gr)}\n",
    "$$\n",
    "Using the probability factorization theorem we get that it equals\n",
    "$$\n",
    "\\frac{\\sum_{gp\\in\\{0,1\\}} \\sum_{gr\\in\\{0,1\\}} P(A=0 | R=1, GP=gp, GR=gr) * P(GP=gp | R=1) * P(GR=gr | R=1) * P(R=1)} {\\sum_{gp\\in\\{0,1\\}} \\sum_{gr\\in\\{0,1\\}} \\sum_{a\\in\\{0,1\\}} P(A=a | R=1, GP=gp, GR=gr) * P(GP=gp | R=1) * P(GR=gr | R=1) * P(R=1)}\n",
    "$$"
   ]
  },
  {
   "cell_type": "markdown",
   "metadata": {},
   "source": [
    "### Implementation\n",
    "\n",
    "Load and transform the data by mapping GPA and GRE values to categories [0,1] based on their threshold conditions "
   ]
  },
  {
   "cell_type": "code",
   "execution_count": null,
   "metadata": {},
   "outputs": [],
   "source": [
    "import pandas\n",
    "\n",
    "df = pandas.read_csv('data/binary.csv')\n",
    "\n",
    "df.loc[df['gpa'] < 3, 'gpa'] = 0\n",
    "df.loc[df['gpa'] >= 3, 'gpa'] = 1\n",
    "df.loc[df['gre'] < 500, 'gre'] = 0\n",
    "df.loc[df['gre'] >= 500, 'gre'] = 1"
   ]
  },
  {
   "cell_type": "markdown",
   "metadata": {},
   "source": [
    "Define a function for calculating conditional probability applying the Laplace correction"
   ]
  },
  {
   "cell_type": "code",
   "execution_count": null,
   "metadata": {},
   "outputs": [],
   "source": [
    "def p(var_pred, cond_pred, class_count):\n",
    "    return (len(df[(var_pred) & (cond_pred)]) + 1) / (len(df[cond_pred]) + class_count)"
   ]
  },
  {
   "cell_type": "markdown",
   "metadata": {},
   "source": [
    "Calculate the numerator and denominator of the factorized expression and then print the value of $ P(A=0 | R=1) $"
   ]
  },
  {
   "cell_type": "code",
   "execution_count": 56,
   "metadata": {},
   "outputs": [
    {
     "name": "stdout",
     "output_type": "stream",
     "text": [
      "P(A=0 | R=1) = 0.44\n"
     ]
    }
   ],
   "source": [
    "num = 0\n",
    "for gpa in [0,1]:\n",
    "    for gre in [0,1]:\n",
    "        num += (len(df[df['rank'] == 1]) + 1) / (len(df) + 2) \\\n",
    "        * p(df['admit'] == 0, (df['rank']==1) & (df['gpa']==gpa) & (df['gre']==gre), 2) \\\n",
    "        * p(df['gpa'] == gpa, (df['rank']==1), 2) \\\n",
    "        * p(df['gre'] == gre, (df['rank']==1), 2)\n",
    "        \n",
    "den = 0\n",
    "for admit in [0,1]:\n",
    "    for gpa in [0,1]:\n",
    "        for gre in [0,1]:\n",
    "            den += (len(df[df['rank'] == 1]) + 1) / (len(df) + 2) \\\n",
    "            * p(df['admit'] == admit, (df['rank']==1) & (df['gpa']==gpa) & (df['gre']==gre), 2) \\\n",
    "            * p(df['gpa'] == gpa, (df['rank']==1), 2) \\\n",
    "            * p(df['gre'] == gre, (df['rank']==1), 2)\n",
    "\n",
    "print(f'P(A=0 | R=1) = {round(num / den, 2)}')\n"
   ]
  }
 ],
 "metadata": {
  "kernelspec": {
   "display_name": "Python 3.10.0 64-bit",
   "language": "python",
   "name": "python3"
  },
  "language_info": {
   "codemirror_mode": {
    "name": "ipython",
    "version": 3
   },
   "file_extension": ".py",
   "mimetype": "text/x-python",
   "name": "python",
   "nbconvert_exporter": "python",
   "pygments_lexer": "ipython3",
   "version": "3.10.0"
  },
  "orig_nbformat": 4,
  "vscode": {
   "interpreter": {
    "hash": "c0afe744ab29470f75ab61b6b2b8fab60cd877b2b4d08fc2e6ef0504fde24db4"
   }
  }
 },
 "nbformat": 4,
 "nbformat_minor": 2
}
