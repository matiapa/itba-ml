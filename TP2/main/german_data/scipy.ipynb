{
 "cells": [
  {
   "cell_type": "code",
   "execution_count": 1,
   "metadata": {},
   "outputs": [],
   "source": [
    "import pandas as pd\n",
    "import matplotlib.pyplot as plt\n",
    "from sklearn.ensemble import RandomForestClassifier\n",
    "from tqdm import tqdm\n",
    "\n",
    "df = pd.read_csv('../data/german_credit.csv')"
   ]
  },
  {
   "cell_type": "code",
   "execution_count": null,
   "metadata": {},
   "outputs": [],
   "source": [
    "samples = 10\n",
    "# excluded_cols = ['Creditability', 'Duration of Credit (month)', 'Credit Amount', 'Age (years)']\n",
    "excluded_cols = ['Creditability']\n",
    "\n",
    "train_precision = 0\n",
    "test_precision = 0\n",
    "\n",
    "for i in tqdm(range(samples)):\n",
    "    df = df.sample(frac=1).reset_index(drop=True)\n",
    "\n",
    "    trainSet = df.iloc[0:900]\n",
    "    testSet = df.iloc[900:1000]\n",
    "\n",
    "    X = trainSet.loc[:, map(lambda c : c not in excluded_cols, df.columns)].to_numpy()\n",
    "    Y = trainSet['Creditability'].to_numpy().ravel()\n",
    "\n",
    "    x = testSet.loc[:, map(lambda c : c not in excluded_cols, df.columns)].to_numpy()\n",
    "    y = testSet['Creditability'].to_numpy().ravel()\n",
    "\n",
    "    clf = RandomForestClassifier(\n",
    "        max_depth=None, n_estimators=100, criterion='entropy',\n",
    "        min_samples_split=2, min_samples_leaf=1\n",
    "    )\n",
    "\n",
    "    clf.fit(X, Y)\n",
    "\n",
    "    train_precision += sum([1 if clf.predict(X[i].reshape(1, -1)) == Y[i] else 0 for i in range(len(x))]) / len(x)\n",
    "    test_precision += sum([1 if clf.predict(x[i].reshape(1, -1)) == y[i] else 0 for i in range(len(x))]) / len(x)\n",
    "\n",
    "print(round(train_precision / samples * 100, 2))\n",
    "print(round(test_precision / samples * 100, 2))"
   ]
  }
 ],
 "metadata": {
  "kernelspec": {
   "display_name": "Python 3.10.0 64-bit",
   "language": "python",
   "name": "python3"
  },
  "language_info": {
   "codemirror_mode": {
    "name": "ipython",
    "version": 3
   },
   "file_extension": ".py",
   "mimetype": "text/x-python",
   "name": "python",
   "nbconvert_exporter": "python",
   "pygments_lexer": "ipython3",
   "version": "3.10.0"
  },
  "orig_nbformat": 4,
  "vscode": {
   "interpreter": {
    "hash": "c0afe744ab29470f75ab61b6b2b8fab60cd877b2b4d08fc2e6ef0504fde24db4"
   }
  }
 },
 "nbformat": 4,
 "nbformat_minor": 2
}
